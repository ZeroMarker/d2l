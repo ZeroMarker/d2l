{
 "cells": [
  {
   "cell_type": "code",
   "execution_count": null,
   "id": "53949fc3",
   "metadata": {
    "vscode": {
     "languageId": "plaintext"
    }
   },
   "outputs": [],
   "source": [
    "import numpy as np\n",
    "from scipy.linalg import lu\n",
    "\n",
    "# 定义矩阵 A\n",
    "A = np.array([\n",
    "    [1, 2, 3],\n",
    "    [4, 5, 6],\n",
    "    [7, 8, 9]\n",
    "], dtype=float)\n",
    "\n",
    "print(\"原始矩阵 A:\")\n",
    "print(A)\n",
    "\n",
    "# 执行 PLU 分解\n",
    "P, L, U = lu(A)\n",
    "\n",
    "print(\"\\n置换矩阵 P:\")\n",
    "print(P)\n",
    "\n",
    "print(\"\\n下三角矩阵 L:\")\n",
    "print(L)\n",
    "\n",
    "print(\"\\n上三角矩阵 U:\")\n",
    "print(U)\n",
    "\n",
    "# 验证 PA = LU\n",
    "PA = P @ A  # 矩阵乘法\n",
    "LU = L @ U  # 矩阵乘法\n",
    "\n",
    "print(\"\\n验证 PA = LU:\")\n",
    "print(\"PA:\")\n",
    "print(PA)\n",
    "print(\"\\nLU:\")\n",
    "print(LU)\n",
    "\n",
    "# 计算误差\n",
    "error = np.linalg.norm(PA - LU, 'fro')\n",
    "print(f\"\\n验证误差 (Frobenius范数): {error:.2e}\")\n",
    "\n",
    "# 应用：解线性方程组 Ax = b\n",
    "b = np.array([1, 2, 3])\n",
    "print(f\"\\n解线性方程组 Ax = b, 其中 b = {b}\")\n",
    "\n",
    "# 方法1: 使用 PLU 分解\n",
    "y = np.linalg.solve(L, P @ b)  # 解 Ly = Pb\n",
    "x = np.linalg.solve(U, y)      # 解 Ux = y\n",
    "\n",
    "print(\"\\n使用 PLU 分解的解 x:\")\n",
    "print(x)\n",
    "\n",
    "# 方法2: 直接使用 scipy 的 lu_solve\n",
    "from scipy.linalg import lu_factor, lu_solve\n",
    "\n",
    "# 获取紧凑形式的 LU 分解\n",
    "lu_data, piv = lu_factor(A)\n",
    "x_direct = lu_solve((lu_data, piv), b)\n",
    "\n",
    "print(\"\\n使用 lu_solve 的直接解 x:\")\n",
    "print(x_direct)\n",
    "\n",
    "# 验证解\n",
    "print(\"\\n验证解 Ax - b:\")\n",
    "print(A @ x - b)"
   ]
  }
 ],
 "metadata": {
  "language_info": {
   "name": "python"
  }
 },
 "nbformat": 4,
 "nbformat_minor": 5
}
